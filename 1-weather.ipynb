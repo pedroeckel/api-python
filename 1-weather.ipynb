{
 "cells": [
  {
   "cell_type": "markdown",
   "metadata": {},
   "source": [
    "# Consulta de Clima\n\nEste notebook demonstra como reutilizar a biblioteca `requests` para consumir a API do [OpenWeatherMap](https://openweathermap.org/) e obter informações de clima. Altere a variável `city` para consultar outras cidades.\n"
   ]
  },
  {
   "cell_type": "code",
   "execution_count": 1,
   "metadata": {},
   "outputs": [],
   "source": [
    "import requests\n",
    "import json"
   ]
  },
  {
   "cell_type": "code",
   "execution_count": 2,
   "metadata": {},
   "outputs": [],
   "source": [
    "city = \"Curitiba\"\n",
    "country = \"BR\""
   ]
  },
  {
   "cell_type": "code",
   "execution_count": 3,
   "metadata": {},
   "outputs": [
    {
     "name": "stdout",
     "output_type": "stream",
     "text": [
      "{\n",
      "  \"coord\": {\n",
      "    \"lon\": -49.2908,\n",
      "    \"lat\": -25.504\n",
      "  },\n",
      "  \"weather\": [\n",
      "    {\n",
      "      \"id\": 741,\n",
      "      \"main\": \"Fog\",\n",
      "      \"description\": \"neblina\",\n",
      "      \"icon\": \"50d\"\n",
      "    }\n",
      "  ],\n",
      "  \"base\": \"stations\",\n",
      "  \"main\": {\n",
      "    \"temp\": 10.95,\n",
      "    \"feels_like\": 10.71,\n",
      "    \"temp_min\": 10.95,\n",
      "    \"temp_max\": 17.32,\n",
      "    \"pressure\": 1023,\n",
      "    \"humidity\": 100\n",
      "  },\n",
      "  \"visibility\": 400,\n",
      "  \"wind\": {\n",
      "    \"speed\": 0.51,\n",
      "    \"deg\": 40\n",
      "  },\n",
      "  \"clouds\": {\n",
      "    \"all\": 75\n",
      "  },\n",
      "  \"dt\": 1718190593,\n",
      "  \"sys\": {\n",
      "    \"type\": 1,\n",
      "    \"id\": 8346,\n",
      "    \"country\": \"BR\",\n",
      "    \"sunrise\": 1718186417,\n",
      "    \"sunset\": 1718224447\n",
      "  },\n",
      "  \"timezone\": -10800,\n",
      "  \"id\": 6322752,\n",
      "  \"name\": \"Curitiba\",\n",
      "  \"cod\": 200\n",
      "}\n"
     ]
    }
   ],
   "source": [
    "api_key = \"d1a1abb0f31afc77d45ed70227666f91\"\n",
    "\n",
    "url = f\"https://api.openweathermap.org/data/2.5/weather?q={city},{country}&lang=pt&units=metric&APPID={api_key}\"\n",
    "\n",
    "\n",
    "response = requests.get(url)\n",
    "data = response.json()\n",
    "\n",
    "print(json.dumps(data, indent=2))"
   ]
  },
  {
   "cell_type": "code",
   "execution_count": 4,
   "metadata": {},
   "outputs": [
    {
     "name": "stdout",
     "output_type": "stream",
     "text": [
      "Clima: neblina\n",
      "Temperatura: 10.95°C\n"
     ]
    }
   ],
   "source": [
    "# Extraindo os dados relevantes\n",
    "weather = data[\"weather\"][0][\"description\"]\n",
    "temperature = data[\"main\"][\"temp\"]\n",
    "\n",
    "# Exibindo os dados extraídos\n",
    "print(f\"Clima: {weather}\")\n",
    "print(f\"Temperatura: {temperature}°C\")"
   ]
  }
 ],
 "metadata": {
  "kernelspec": {
   "display_name": "Python 3",
   "language": "python",
   "name": "python3"
  },
  "language_info": {
   "codemirror_mode": {
    "name": "ipython",
    "version": 3
   },
   "file_extension": ".py",
   "mimetype": "text/x-python",
   "name": "python",
   "nbconvert_exporter": "python",
   "pygments_lexer": "ipython3",
   "version": "3.12.2"
  }
 },
 "nbformat": 4,
 "nbformat_minor": 2
}