{
 "cells": [
  {
   "cell_type": "markdown",
   "metadata": {},
   "source": [
    "# Exemplo de operações CRUD\n\nDemonstra como reutilizar funções para criar, ler, atualizar e deletar recursos consumindo a API pública `api-ufpr.vercel.app` com a biblioteca `requests`.\n"
   ]
  },
  {
   "cell_type": "code",
   "execution_count": 59,
   "metadata": {},
   "outputs": [
    {
     "name": "stdout",
     "output_type": "stream",
     "text": [
      "Defaulting to user installation because normal site-packages is not writeable\n",
      "Requirement already satisfied: requests in c:\\users\\pedro\\appdata\\roaming\\python\\python312\\site-packages (2.31.0)\n",
      "Requirement already satisfied: charset-normalizer<4,>=2 in c:\\users\\pedro\\appdata\\roaming\\python\\python312\\site-packages (from requests) (3.3.2)\n",
      "Requirement already satisfied: idna<4,>=2.5 in c:\\users\\pedro\\appdata\\roaming\\python\\python312\\site-packages (from requests) (3.7)\n",
      "Requirement already satisfied: urllib3<3,>=1.21.1 in c:\\users\\pedro\\appdata\\roaming\\python\\python312\\site-packages (from requests) (2.2.1)\n",
      "Requirement already satisfied: certifi>=2017.4.17 in c:\\users\\pedro\\appdata\\roaming\\python\\python312\\site-packages (from requests) (2024.2.2)\n",
      "Note: you may need to restart the kernel to use updated packages.\n"
     ]
    }
   ],
   "source": [
    "# Instalar a biblioteca requests se ainda não estiver instalada\n",
    "%pip install requests"
   ]
  },
  {
   "cell_type": "code",
   "execution_count": 1,
   "metadata": {},
   "outputs": [],
   "source": [
    "import requests\n",
    "import json"
   ]
  },
  {
   "cell_type": "code",
   "execution_count": 2,
   "metadata": {},
   "outputs": [],
   "source": [
    "# URL base da API e recurso a ser acessado\n",
    "url_base = \"https://api-ufpr.vercel.app/api/\""
   ]
  },
  {
   "cell_type": "code",
   "execution_count": 3,
   "metadata": {},
   "outputs": [],
   "source": [
    "def get_recurso(nome_recurso, filtro=None):\n",
    "    if filtro:\n",
    "        url = f\"{url_base}/{nome_recurso}?{filtro}\"\n",
    "    else:\n",
    "        url = f\"{url_base}/{nome_recurso}\"\n",
    "\n",
    "    response = requests.get(url)\n",
    "    if response.status_code == 200:\n",
    "        print(\"Recurso lido com sucesso.\")\n",
    "        return response.json()\n",
    "    else:\n",
    "        print(\"Erro ao ler recurso:\", response.status_code, response.text)"
   ]
  },
  {
   "cell_type": "code",
   "execution_count": 63,
   "metadata": {},
   "outputs": [
    {
     "name": "stdout",
     "output_type": "stream",
     "text": [
      "Recurso lido com sucesso.\n",
      "[\n",
      "  {\n",
      "    \"id\": \"clx9em9ah0000kw3b8ixz96p2\",\n",
      "    \"name\": \"Pedro Eckel\",\n",
      "    \"email\": \"pedroeckel@gmail.com\",\n",
      "    \"createdAt\": \"2024-06-10T20:06:51.785Z\",\n",
      "    \"updatedAt\": \"2024-06-10T20:06:39.730Z\"\n",
      "  },\n",
      "  {\n",
      "    \"id\": \"clx9esaj70002kw3bgf47x2p6\",\n",
      "    \"name\": \"Rafael Leal\",\n",
      "    \"email\": \"rafael@mail.com\",\n",
      "    \"createdAt\": \"2024-06-10T20:11:33.331Z\",\n",
      "    \"updatedAt\": \"2024-06-10T20:11:17.240Z\"\n",
      "  }\n",
      "]\n"
     ]
    }
   ],
   "source": [
    "resultado_users = get_recurso(\"users\")\n",
    "\n",
    "print(json.dumps(resultado_users, indent=2))"
   ]
  },
  {
   "cell_type": "markdown",
   "metadata": {},
   "source": [
    "# Criar um novo post\n"
   ]
  },
  {
   "cell_type": "code",
   "execution_count": 64,
   "metadata": {},
   "outputs": [],
   "source": [
    "recurso = \"posts\""
   ]
  },
  {
   "cell_type": "code",
   "execution_count": 65,
   "metadata": {},
   "outputs": [],
   "source": [
    "# Para criar um\n",
    "def criar_recurso(nome_recurso, data):\n",
    "    url = f\"{url_base}/{nome_recurso}\"\n",
    "    response = requests.post(url, json=data)\n",
    "    if response.status_code == 201:\n",
    "        print(\"Recurso criado com sucesso.\")\n",
    "        return response.json()\n",
    "    else:\n",
    "        print(\"Erro ao criar recurso:\", response.status_code, response.text)"
   ]
  },
  {
   "cell_type": "code",
   "execution_count": 66,
   "metadata": {},
   "outputs": [
    {
     "name": "stdout",
     "output_type": "stream",
     "text": [
      "Dados {'title': 'Post de exemplo', 'content': 'Corpo do post de exemplo', 'authorId': 'clx9em9ah0000kw3b8ixz96p2'}\n",
      "Recurso criado com sucesso.\n",
      "{\n",
      "  \"id\": \"clxbh51th000bygjxzd3ylioa\",\n",
      "  \"title\": \"Post de exemplo\",\n",
      "  \"content\": \"Corpo do post de exemplo\",\n",
      "  \"published\": false,\n",
      "  \"authorId\": \"clx9em9ah0000kw3b8ixz96p2\"\n",
      "}\n"
     ]
    }
   ],
   "source": [
    "# Para criar post é necessário passar o título (title), conteúdo (content) e o id do autor (authorId) que é referente ao userID\n",
    "dados_criacao = {\n",
    "    \"title\": \"Post de exemplo\",\n",
    "    \"content\": \"Corpo do post de exemplo\",\n",
    "    \"authorId\": resultado_users[0][\"id\"],\n",
    "}\n",
    "\n",
    "print(\"Dados\", dados_criacao)\n",
    "\n",
    "resultado_criar_post = criar_recurso(recurso, dados_criacao)\n",
    "\n",
    "print(json.dumps(resultado_criar_post, indent=2))"
   ]
  },
  {
   "cell_type": "markdown",
   "metadata": {},
   "source": [
    "# Exemplo de erro\n"
   ]
  },
  {
   "cell_type": "code",
   "execution_count": 67,
   "metadata": {},
   "outputs": [
    {
     "name": "stdout",
     "output_type": "stream",
     "text": [
      "Dados {'title': 'Post de exemplo', 'content': 'Corpo do post de exemplo', 'authorId': 'autor'}\n",
      "Erro ao criar recurso: 400 {\"error\":\"Autor não encontrado\"}\n",
      "null\n"
     ]
    }
   ],
   "source": [
    "# Para criar post é necessário passar o título (title), conteúdo (content) e o id do autor (authorId) que é referente ao userID\n",
    "dados_criacao = {\n",
    "    \"title\": \"Post de exemplo\",\n",
    "    \"content\": \"Corpo do post de exemplo\",\n",
    "    \"authorId\": \"autor\",\n",
    "}\n",
    "\n",
    "print(\"Dados\", dados_criacao)\n",
    "\n",
    "resultado_criar_post = criar_recurso(recurso, dados_criacao)\n",
    "\n",
    "print(json.dumps(resultado_criar_post, indent=2))"
   ]
  },
  {
   "cell_type": "markdown",
   "metadata": {},
   "source": [
    "# Trazer a lista de Posts\n"
   ]
  },
  {
   "cell_type": "code",
   "execution_count": 68,
   "metadata": {},
   "outputs": [
    {
     "name": "stdout",
     "output_type": "stream",
     "text": [
      "Recurso lido com sucesso.\n",
      "[\n",
      "  {\n",
      "    \"id\": \"clxahyr040003oq6znvn4lunk\",\n",
      "    \"title\": \"Pedro Eckel\",\n",
      "    \"content\": \"pedroeckesl@gmail.com\",\n",
      "    \"published\": false,\n",
      "    \"authorId\": \"clx9em9ah0000kw3b8ixz96p2\"\n",
      "  },\n",
      "  {\n",
      "    \"id\": \"clxbgggd10001ygjxzk2uhvr4\",\n",
      "    \"title\": \"Post de exemplo\",\n",
      "    \"content\": \"Corpo do post de exemplo\",\n",
      "    \"published\": false,\n",
      "    \"authorId\": \"clx9em9ah0000kw3b8ixz96p2\"\n",
      "  },\n",
      "  {\n",
      "    \"id\": \"clxbgq8220003ygjx7fm3zb1e\",\n",
      "    \"title\": \"Post de exemplo\",\n",
      "    \"content\": \"Corpo do post de exemplo\",\n",
      "    \"published\": false,\n",
      "    \"authorId\": \"clx9em9ah0000kw3b8ixz96p2\"\n",
      "  },\n",
      "  {\n",
      "    \"id\": \"clxbgsy260005ygjxl8ub5rul\",\n",
      "    \"title\": \"Post de exemplo\",\n",
      "    \"content\": \"Corpo do post de exemplo\",\n",
      "    \"published\": false,\n",
      "    \"authorId\": \"clx9esaj70002kw3bgf47x2p6\"\n",
      "  },\n",
      "  {\n",
      "    \"id\": \"clxbh51th000bygjxzd3ylioa\",\n",
      "    \"title\": \"Post de exemplo\",\n",
      "    \"content\": \"Corpo do post de exemplo\",\n",
      "    \"published\": false,\n",
      "    \"authorId\": \"clx9em9ah0000kw3b8ixz96p2\"\n",
      "  }\n",
      "]\n"
     ]
    }
   ],
   "source": [
    "resultado_posts = get_recurso(recurso)\n",
    "\n",
    "print(json.dumps(resultado_posts, indent=2))"
   ]
  },
  {
   "cell_type": "markdown",
   "metadata": {},
   "source": [
    "# Exemplo de filtro\n"
   ]
  },
  {
   "cell_type": "code",
   "execution_count": 69,
   "metadata": {},
   "outputs": [
    {
     "name": "stdout",
     "output_type": "stream",
     "text": [
      "Recurso lido com sucesso.\n",
      "[\n",
      "  {\n",
      "    \"id\": \"clxahyr040003oq6znvn4lunk\",\n",
      "    \"title\": \"Pedro Eckel\",\n",
      "    \"content\": \"pedroeckesl@gmail.com\",\n",
      "    \"published\": false,\n",
      "    \"authorId\": \"clx9em9ah0000kw3b8ixz96p2\"\n",
      "  },\n",
      "  {\n",
      "    \"id\": \"clxbgggd10001ygjxzk2uhvr4\",\n",
      "    \"title\": \"Post de exemplo\",\n",
      "    \"content\": \"Corpo do post de exemplo\",\n",
      "    \"published\": false,\n",
      "    \"authorId\": \"clx9em9ah0000kw3b8ixz96p2\"\n",
      "  },\n",
      "  {\n",
      "    \"id\": \"clxbgq8220003ygjx7fm3zb1e\",\n",
      "    \"title\": \"Post de exemplo\",\n",
      "    \"content\": \"Corpo do post de exemplo\",\n",
      "    \"published\": false,\n",
      "    \"authorId\": \"clx9em9ah0000kw3b8ixz96p2\"\n",
      "  },\n",
      "  {\n",
      "    \"id\": \"clxbgsy260005ygjxl8ub5rul\",\n",
      "    \"title\": \"Post de exemplo\",\n",
      "    \"content\": \"Corpo do post de exemplo\",\n",
      "    \"published\": false,\n",
      "    \"authorId\": \"clx9esaj70002kw3bgf47x2p6\"\n",
      "  },\n",
      "  {\n",
      "    \"id\": \"clxbh51th000bygjxzd3ylioa\",\n",
      "    \"title\": \"Post de exemplo\",\n",
      "    \"content\": \"Corpo do post de exemplo\",\n",
      "    \"published\": false,\n",
      "    \"authorId\": \"clx9em9ah0000kw3b8ixz96p2\"\n",
      "  }\n",
      "]\n"
     ]
    }
   ],
   "source": [
    "# Filtrar somente os posts de um autor específico (resultado_users[1])\n",
    "resultado_posts_filtro = get_recurso(\n",
    "    recurso, \"authorId={}\".format(resultado_users[1][\"id\"])\n",
    ")\n",
    "\n",
    "print(json.dumps(resultado_posts, indent=2))"
   ]
  },
  {
   "cell_type": "markdown",
   "metadata": {},
   "source": [
    "# Retornar um post pelo id\n"
   ]
  },
  {
   "cell_type": "code",
   "execution_count": 70,
   "metadata": {},
   "outputs": [],
   "source": [
    "def get_recurso_id(nome_recurso, id):\n",
    "    url = f\"{url_base}/{nome_recurso}/{id}\"\n",
    "    response = requests.get(url)\n",
    "    if response.status_code == 200:\n",
    "        print(\"Recurso lido com sucesso.\")\n",
    "        return response.json()\n",
    "    else:\n",
    "        print(\"Erro ao ler recurso:\", response.status_code, response.text)"
   ]
  },
  {
   "cell_type": "code",
   "execution_count": 71,
   "metadata": {},
   "outputs": [
    {
     "name": "stdout",
     "output_type": "stream",
     "text": [
      "Recurso lido com sucesso.\n",
      "{\n",
      "  \"id\": \"clxahyr040003oq6znvn4lunk\",\n",
      "  \"title\": \"Pedro Eckel\",\n",
      "  \"content\": \"pedroeckesl@gmail.com\",\n",
      "  \"published\": false,\n",
      "  \"authorId\": \"clx9em9ah0000kw3b8ixz96p2\"\n",
      "}\n"
     ]
    }
   ],
   "source": [
    "resultado_post_id = get_recurso_id(recurso, resultado_posts[0][\"id\"])\n",
    "\n",
    "print(json.dumps(resultado_post_id, indent=2))"
   ]
  },
  {
   "cell_type": "markdown",
   "metadata": {},
   "source": [
    "# Atualizar um post\n"
   ]
  },
  {
   "cell_type": "code",
   "execution_count": 72,
   "metadata": {},
   "outputs": [],
   "source": [
    "def atualizar_recurso_id(nome_recurso, id, data):\n",
    "    url = f\"{url_base}/{nome_recurso}/{id}\"\n",
    "    response = requests.put(url, json=data)\n",
    "    if response.status_code == 200:\n",
    "        print(\"Recurso atualizado com sucesso.\")\n",
    "        return response.json()\n",
    "    else:\n",
    "        print(\"Erro ao atualizar recurso:\", response.status_code, response.text)"
   ]
  },
  {
   "cell_type": "code",
   "execution_count": 73,
   "metadata": {},
   "outputs": [
    {
     "name": "stdout",
     "output_type": "stream",
     "text": [
      "Recurso atualizado com sucesso.\n",
      "{\n",
      "  \"id\": \"clxbh51th000bygjxzd3ylioa\",\n",
      "  \"title\": \"Post de exemplo atualizado\",\n",
      "  \"content\": \"Corpo do post de exemplo atualizado\",\n",
      "  \"published\": false,\n",
      "  \"authorId\": \"clx9em9ah0000kw3b8ixz96p2\"\n",
      "}\n"
     ]
    }
   ],
   "source": [
    "dados_atualizacao = {\n",
    "    \"title\": \"Post de exemplo atualizado\",\n",
    "    \"content\": \"Corpo do post de exemplo atualizado\",\n",
    "    \"authorId\": resultado_users[0][\"id\"],\n",
    "}\n",
    "\n",
    "resultado_atualizar_post = atualizar_recurso_id(\n",
    "    recurso, resultado_posts[len(resultado_posts) - 1][\"id\"], dados_atualizacao\n",
    ")\n",
    "\n",
    "print(json.dumps(resultado_atualizar_post, indent=2))"
   ]
  },
  {
   "cell_type": "markdown",
   "metadata": {},
   "source": [
    "# Deletar um post\n"
   ]
  },
  {
   "cell_type": "code",
   "execution_count": 74,
   "metadata": {},
   "outputs": [],
   "source": [
    "def deletar_recurso_id(nome_recurso, id):\n",
    "    url = f\"{url_base}/{nome_recurso}/{id}\"\n",
    "    response = requests.delete(url)\n",
    "    if response.status_code == 200:\n",
    "        print(\"Recurso deletado com sucesso.\")\n",
    "        # Não há retorno\n",
    "        return\n",
    "    else:\n",
    "        print(\"Erro ao deletar recurso:\", response.status_code, response.text)"
   ]
  },
  {
   "cell_type": "code",
   "execution_count": 75,
   "metadata": {},
   "outputs": [
    {
     "name": "stdout",
     "output_type": "stream",
     "text": [
      "Recurso deletado com sucesso.\n",
      "None\n"
     ]
    }
   ],
   "source": [
    "resultado_deletar_post = deletar_recurso_id(\n",
    "    recurso, resultado_posts[len(resultado_posts) - 1][\"id\"]\n",
    ")\n",
    "\n",
    "print(resultado_deletar_post)"
   ]
  }
 ],
 "metadata": {
  "kernelspec": {
   "display_name": "Python 3",
   "language": "python",
   "name": "python3"
  },
  "language_info": {
   "codemirror_mode": {
    "name": "ipython",
    "version": 3
   },
   "file_extension": ".py",
   "mimetype": "text/x-python",
   "name": "python",
   "nbconvert_exporter": "python",
   "pygments_lexer": "ipython3",
   "version": "3.12.2"
  }
 },
 "nbformat": 4,
 "nbformat_minor": 2
}